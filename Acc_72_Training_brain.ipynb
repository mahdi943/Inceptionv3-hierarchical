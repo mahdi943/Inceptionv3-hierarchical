{
  "cells": [
    {
      "cell_type": "markdown",
      "metadata": {
        "id": "view-in-github",
        "colab_type": "text"
      },
      "source": [
        "<a href=\"https://colab.research.google.com/github/mahdi943/Inceptionv3-hierarchical/blob/master/Acc_72_Training_brain.ipynb\" target=\"_parent\"><img src=\"https://colab.research.google.com/assets/colab-badge.svg\" alt=\"Open In Colab\"/></a>"
      ]
    },
    {
      "cell_type": "code",
      "execution_count": null,
      "metadata": {
        "id": "k_uBeZBxiUbO"
      },
      "outputs": [],
      "source": [
        "import pandas as pd\n",
        "import numpy as np\n",
        "import tensorflow as tf\n",
        "import seaborn as sns\n",
        "import matplotlib.pyplot as plt\n",
        "import scipy.io\n",
        "from numpy import random\n",
        "\n",
        "import keras\n",
        "from keras import layers\n",
        "from keras.layers import Input, Dense, Conv2D, MaxPooling2D, BatchNormalization,Activation, Flatten, GlobalAveragePooling2D, SeparableConv2D\n",
        "from keras.models import Model\n",
        "\n",
        "from keras.preprocessing import image\n",
        "from keras.utils import layer_utils\n",
        "from keras.layers import Dropout\n",
        "from keras.regularizers import l2\n",
        "from keras.regularizers import l1\n",
        "np.random.seed(5)\n",
        "from sklearn.model_selection import train_test_split\n",
        "from keras.preprocessing.image import ImageDataGenerator\n",
        "import cv2\n",
        "import os\n",
        "from keras.utils.np_utils import to_categorical\n",
        "from PIL import Image\n",
        "from keras.preprocessing.image import load_img,img_to_array,array_to_img,save_img"
      ]
    },
    {
      "cell_type": "code",
      "execution_count": null,
      "metadata": {
        "colab": {
          "base_uri": "https://localhost:8080/",
          "height": 206
        },
        "id": "EaTfK-gqx_Ig",
        "outputId": "76780ce7-a7a6-401a-bd1d-f1f23989e77d"
      },
      "outputs": [
        {
          "output_type": "execute_result",
          "data": {
            "text/plain": [
              "   Image  Class0  Class1\n",
              "0  1.jpg       1       0\n",
              "1  2.jpg       1       0\n",
              "2  3.jpg       1       0\n",
              "3  4.jpg       1       0\n",
              "4  5.jpg       1       0"
            ],
            "text/html": [
              "\n",
              "  <div id=\"df-c5d87bd0-3424-408e-873e-281ee70b4ef6\">\n",
              "    <div class=\"colab-df-container\">\n",
              "      <div>\n",
              "<style scoped>\n",
              "    .dataframe tbody tr th:only-of-type {\n",
              "        vertical-align: middle;\n",
              "    }\n",
              "\n",
              "    .dataframe tbody tr th {\n",
              "        vertical-align: top;\n",
              "    }\n",
              "\n",
              "    .dataframe thead th {\n",
              "        text-align: right;\n",
              "    }\n",
              "</style>\n",
              "<table border=\"1\" class=\"dataframe\">\n",
              "  <thead>\n",
              "    <tr style=\"text-align: right;\">\n",
              "      <th></th>\n",
              "      <th>Image</th>\n",
              "      <th>Class0</th>\n",
              "      <th>Class1</th>\n",
              "    </tr>\n",
              "  </thead>\n",
              "  <tbody>\n",
              "    <tr>\n",
              "      <th>0</th>\n",
              "      <td>1.jpg</td>\n",
              "      <td>1</td>\n",
              "      <td>0</td>\n",
              "    </tr>\n",
              "    <tr>\n",
              "      <th>1</th>\n",
              "      <td>2.jpg</td>\n",
              "      <td>1</td>\n",
              "      <td>0</td>\n",
              "    </tr>\n",
              "    <tr>\n",
              "      <th>2</th>\n",
              "      <td>3.jpg</td>\n",
              "      <td>1</td>\n",
              "      <td>0</td>\n",
              "    </tr>\n",
              "    <tr>\n",
              "      <th>3</th>\n",
              "      <td>4.jpg</td>\n",
              "      <td>1</td>\n",
              "      <td>0</td>\n",
              "    </tr>\n",
              "    <tr>\n",
              "      <th>4</th>\n",
              "      <td>5.jpg</td>\n",
              "      <td>1</td>\n",
              "      <td>0</td>\n",
              "    </tr>\n",
              "  </tbody>\n",
              "</table>\n",
              "</div>\n",
              "      <button class=\"colab-df-convert\" onclick=\"convertToInteractive('df-c5d87bd0-3424-408e-873e-281ee70b4ef6')\"\n",
              "              title=\"Convert this dataframe to an interactive table.\"\n",
              "              style=\"display:none;\">\n",
              "        \n",
              "  <svg xmlns=\"http://www.w3.org/2000/svg\" height=\"24px\"viewBox=\"0 0 24 24\"\n",
              "       width=\"24px\">\n",
              "    <path d=\"M0 0h24v24H0V0z\" fill=\"none\"/>\n",
              "    <path d=\"M18.56 5.44l.94 2.06.94-2.06 2.06-.94-2.06-.94-.94-2.06-.94 2.06-2.06.94zm-11 1L8.5 8.5l.94-2.06 2.06-.94-2.06-.94L8.5 2.5l-.94 2.06-2.06.94zm10 10l.94 2.06.94-2.06 2.06-.94-2.06-.94-.94-2.06-.94 2.06-2.06.94z\"/><path d=\"M17.41 7.96l-1.37-1.37c-.4-.4-.92-.59-1.43-.59-.52 0-1.04.2-1.43.59L10.3 9.45l-7.72 7.72c-.78.78-.78 2.05 0 2.83L4 21.41c.39.39.9.59 1.41.59.51 0 1.02-.2 1.41-.59l7.78-7.78 2.81-2.81c.8-.78.8-2.07 0-2.86zM5.41 20L4 18.59l7.72-7.72 1.47 1.35L5.41 20z\"/>\n",
              "  </svg>\n",
              "      </button>\n",
              "      \n",
              "  <style>\n",
              "    .colab-df-container {\n",
              "      display:flex;\n",
              "      flex-wrap:wrap;\n",
              "      gap: 12px;\n",
              "    }\n",
              "\n",
              "    .colab-df-convert {\n",
              "      background-color: #E8F0FE;\n",
              "      border: none;\n",
              "      border-radius: 50%;\n",
              "      cursor: pointer;\n",
              "      display: none;\n",
              "      fill: #1967D2;\n",
              "      height: 32px;\n",
              "      padding: 0 0 0 0;\n",
              "      width: 32px;\n",
              "    }\n",
              "\n",
              "    .colab-df-convert:hover {\n",
              "      background-color: #E2EBFA;\n",
              "      box-shadow: 0px 1px 2px rgba(60, 64, 67, 0.3), 0px 1px 3px 1px rgba(60, 64, 67, 0.15);\n",
              "      fill: #174EA6;\n",
              "    }\n",
              "\n",
              "    [theme=dark] .colab-df-convert {\n",
              "      background-color: #3B4455;\n",
              "      fill: #D2E3FC;\n",
              "    }\n",
              "\n",
              "    [theme=dark] .colab-df-convert:hover {\n",
              "      background-color: #434B5C;\n",
              "      box-shadow: 0px 1px 3px 1px rgba(0, 0, 0, 0.15);\n",
              "      filter: drop-shadow(0px 1px 2px rgba(0, 0, 0, 0.3));\n",
              "      fill: #FFFFFF;\n",
              "    }\n",
              "  </style>\n",
              "\n",
              "      <script>\n",
              "        const buttonEl =\n",
              "          document.querySelector('#df-c5d87bd0-3424-408e-873e-281ee70b4ef6 button.colab-df-convert');\n",
              "        buttonEl.style.display =\n",
              "          google.colab.kernel.accessAllowed ? 'block' : 'none';\n",
              "\n",
              "        async function convertToInteractive(key) {\n",
              "          const element = document.querySelector('#df-c5d87bd0-3424-408e-873e-281ee70b4ef6');\n",
              "          const dataTable =\n",
              "            await google.colab.kernel.invokeFunction('convertToInteractive',\n",
              "                                                     [key], {});\n",
              "          if (!dataTable) return;\n",
              "\n",
              "          const docLinkHtml = 'Like what you see? Visit the ' +\n",
              "            '<a target=\"_blank\" href=https://colab.research.google.com/notebooks/data_table.ipynb>data table notebook</a>'\n",
              "            + ' to learn more about interactive tables.';\n",
              "          element.innerHTML = '';\n",
              "          dataTable['output_type'] = 'display_data';\n",
              "          await google.colab.output.renderOutput(dataTable, element);\n",
              "          const docLink = document.createElement('div');\n",
              "          docLink.innerHTML = docLinkHtml;\n",
              "          element.appendChild(docLink);\n",
              "        }\n",
              "      </script>\n",
              "    </div>\n",
              "  </div>\n",
              "  "
            ]
          },
          "metadata": {},
          "execution_count": 4
        }
      ],
      "source": [
        "data = pd.read_csv('/content/drive/MyDrive/project/dataset/labelTrain1.csv') # enter the file path on your drive for the csv file\n",
        "data.head()"
      ]
    },
    {
      "cell_type": "code",
      "source": [
        "from keras.applications import inception_v3\n",
        "from keras.applications.inception_v3 import InceptionV3\n",
        "\n",
        "base_model = InceptionV3(weights = 'imagenet', include_top = False, input_shape=(500, 500, 3))\n",
        "base_model.layers.pop()\n",
        "base_model.layers.pop()\n",
        "base_model.layers.pop()\n",
        "base_model.layers.pop()\n",
        "for layer in base_model.layers:\n",
        "  layer.trainable = False\n",
        "# base_model.summary()"
      ],
      "metadata": {
        "colab": {
          "base_uri": "https://localhost:8080/"
        },
        "id": "HLp-guc6dZOI",
        "outputId": "63fb39ef-e71f-484a-9971-f59b47164024"
      },
      "execution_count": null,
      "outputs": [
        {
          "output_type": "stream",
          "name": "stdout",
          "text": [
            "Downloading data from https://storage.googleapis.com/tensorflow/keras-applications/inception_v3/inception_v3_weights_tf_dim_ordering_tf_kernels_notop.h5\n",
            "87916544/87910968 [==============================] - 1s 0us/step\n",
            "87924736/87910968 [==============================] - 1s 0us/step\n"
          ]
        }
      ]
    },
    {
      "cell_type": "code",
      "execution_count": null,
      "metadata": {
        "id": "F4KvPonulG7_"
      },
      "outputs": [],
      "source": [
        "def brain_model(base_model, img_shape = (500,500,3)):\n",
        "    \n",
        "    \n",
        "    # create the input layer (Same as the imageNetv2 input size)\n",
        "    inputs = tf.keras.Input(shape=img_shape) \n",
        "    \n",
        "    # Forward pass to get the output of the last pooling layer\n",
        "    X = base_model(inputs)\n",
        "    #X = Dropout(.5, img_shape)(X)\n",
        "    X = GlobalAveragePooling2D()(X)\n",
        "    X = Dropout(.25)(X)\n",
        "    # Define the new binary classification head \n",
        "    \n",
        "    X = Dense(1024, activation='relu', name='fc1')(X)\n",
        "    X = Dropout(.5)(X)\n",
        "    # X = Dense(512, activation='relu', name='fc2')(X)\n",
        "    # X = Dropout(.25)(X)\n",
        "    X = Dense(256, activation='relu', name='fc3')(X)\n",
        "    X = Dropout(.5)(X)\n",
        "    # X = Dense(128, activation='relu', name='fc4')(X)\n",
        "    # X = Dropout(.25)(X)\n",
        "    X = Dense(64, activation='relu', name='fc5')(X)\n",
        "    X = Dropout(.5)(X)\n",
        "        \n",
        "    outputs = Dense(2,activation='softmax', name='predictions')(X)\n",
        "    model = tf.keras.Model(inputs, outputs)\n",
        "    \n",
        "    return model"
      ]
    },
    {
      "cell_type": "code",
      "execution_count": null,
      "metadata": {
        "id": "h6j8oCK-sPeN"
      },
      "outputs": [],
      "source": [
        "#Create your model using the function above\n",
        "\n",
        "model = brain_model (base_model, img_shape = (500,500,3))"
      ]
    },
    {
      "cell_type": "code",
      "execution_count": null,
      "metadata": {
        "id": "AM-6EEENqbg6",
        "colab": {
          "base_uri": "https://localhost:8080/"
        },
        "outputId": "f868eb4e-b6d1-40ec-f844-b9fcbaea8bca"
      },
      "outputs": [
        {
          "output_type": "stream",
          "name": "stdout",
          "text": [
            "Model: \"model_2\"\n",
            "_________________________________________________________________\n",
            " Layer (type)                Output Shape              Param #   \n",
            "=================================================================\n",
            " input_4 (InputLayer)        [(None, 500, 500, 3)]     0         \n",
            "                                                                 \n",
            " inception_v3 (Functional)   (None, 14, 14, 2048)      21802784  \n",
            "                                                                 \n",
            " global_average_pooling2d_2   (None, 2048)             0         \n",
            " (GlobalAveragePooling2D)                                        \n",
            "                                                                 \n",
            " dropout_11 (Dropout)        (None, 2048)              0         \n",
            "                                                                 \n",
            " fc1 (Dense)                 (None, 1024)              2098176   \n",
            "                                                                 \n",
            " dropout_12 (Dropout)        (None, 1024)              0         \n",
            "                                                                 \n",
            " fc3 (Dense)                 (None, 256)               262400    \n",
            "                                                                 \n",
            " dropout_13 (Dropout)        (None, 256)               0         \n",
            "                                                                 \n",
            " fc5 (Dense)                 (None, 64)                16448     \n",
            "                                                                 \n",
            " dropout_14 (Dropout)        (None, 64)                0         \n",
            "                                                                 \n",
            " predictions (Dense)         (None, 2)                 130       \n",
            "                                                                 \n",
            "=================================================================\n",
            "Total params: 24,179,938\n",
            "Trainable params: 2,377,154\n",
            "Non-trainable params: 21,802,784\n",
            "_________________________________________________________________\n"
          ]
        }
      ],
      "source": [
        "model.summary()"
      ]
    },
    {
      "cell_type": "markdown",
      "metadata": {
        "id": "VudyisrdvdtI"
      },
      "source": [
        "## 7) Train the Network with  Tuned Parameters"
      ]
    },
    {
      "cell_type": "code",
      "execution_count": null,
      "metadata": {
        "id": "3pTM1VZGZuOQ",
        "outputId": "bbcb3919-1a89-4944-9cb1-f2e25c8d0e25",
        "colab": {
          "base_uri": "https://localhost:8080/",
          "height": 206
        }
      },
      "outputs": [
        {
          "output_type": "execute_result",
          "data": {
            "text/plain": [
              "    Image  Class0  Class1\n",
              "0  65.jpg       1       0\n",
              "1  66.jpg       1       0\n",
              "2  67.jpg       1       0\n",
              "3  68.jpg       1       0\n",
              "4  69.jpg       1       0"
            ],
            "text/html": [
              "\n",
              "  <div id=\"df-f5421a90-1b05-46a4-a75e-17848fbe8b8b\">\n",
              "    <div class=\"colab-df-container\">\n",
              "      <div>\n",
              "<style scoped>\n",
              "    .dataframe tbody tr th:only-of-type {\n",
              "        vertical-align: middle;\n",
              "    }\n",
              "\n",
              "    .dataframe tbody tr th {\n",
              "        vertical-align: top;\n",
              "    }\n",
              "\n",
              "    .dataframe thead th {\n",
              "        text-align: right;\n",
              "    }\n",
              "</style>\n",
              "<table border=\"1\" class=\"dataframe\">\n",
              "  <thead>\n",
              "    <tr style=\"text-align: right;\">\n",
              "      <th></th>\n",
              "      <th>Image</th>\n",
              "      <th>Class0</th>\n",
              "      <th>Class1</th>\n",
              "    </tr>\n",
              "  </thead>\n",
              "  <tbody>\n",
              "    <tr>\n",
              "      <th>0</th>\n",
              "      <td>65.jpg</td>\n",
              "      <td>1</td>\n",
              "      <td>0</td>\n",
              "    </tr>\n",
              "    <tr>\n",
              "      <th>1</th>\n",
              "      <td>66.jpg</td>\n",
              "      <td>1</td>\n",
              "      <td>0</td>\n",
              "    </tr>\n",
              "    <tr>\n",
              "      <th>2</th>\n",
              "      <td>67.jpg</td>\n",
              "      <td>1</td>\n",
              "      <td>0</td>\n",
              "    </tr>\n",
              "    <tr>\n",
              "      <th>3</th>\n",
              "      <td>68.jpg</td>\n",
              "      <td>1</td>\n",
              "      <td>0</td>\n",
              "    </tr>\n",
              "    <tr>\n",
              "      <th>4</th>\n",
              "      <td>69.jpg</td>\n",
              "      <td>1</td>\n",
              "      <td>0</td>\n",
              "    </tr>\n",
              "  </tbody>\n",
              "</table>\n",
              "</div>\n",
              "      <button class=\"colab-df-convert\" onclick=\"convertToInteractive('df-f5421a90-1b05-46a4-a75e-17848fbe8b8b')\"\n",
              "              title=\"Convert this dataframe to an interactive table.\"\n",
              "              style=\"display:none;\">\n",
              "        \n",
              "  <svg xmlns=\"http://www.w3.org/2000/svg\" height=\"24px\"viewBox=\"0 0 24 24\"\n",
              "       width=\"24px\">\n",
              "    <path d=\"M0 0h24v24H0V0z\" fill=\"none\"/>\n",
              "    <path d=\"M18.56 5.44l.94 2.06.94-2.06 2.06-.94-2.06-.94-.94-2.06-.94 2.06-2.06.94zm-11 1L8.5 8.5l.94-2.06 2.06-.94-2.06-.94L8.5 2.5l-.94 2.06-2.06.94zm10 10l.94 2.06.94-2.06 2.06-.94-2.06-.94-.94-2.06-.94 2.06-2.06.94z\"/><path d=\"M17.41 7.96l-1.37-1.37c-.4-.4-.92-.59-1.43-.59-.52 0-1.04.2-1.43.59L10.3 9.45l-7.72 7.72c-.78.78-.78 2.05 0 2.83L4 21.41c.39.39.9.59 1.41.59.51 0 1.02-.2 1.41-.59l7.78-7.78 2.81-2.81c.8-.78.8-2.07 0-2.86zM5.41 20L4 18.59l7.72-7.72 1.47 1.35L5.41 20z\"/>\n",
              "  </svg>\n",
              "      </button>\n",
              "      \n",
              "  <style>\n",
              "    .colab-df-container {\n",
              "      display:flex;\n",
              "      flex-wrap:wrap;\n",
              "      gap: 12px;\n",
              "    }\n",
              "\n",
              "    .colab-df-convert {\n",
              "      background-color: #E8F0FE;\n",
              "      border: none;\n",
              "      border-radius: 50%;\n",
              "      cursor: pointer;\n",
              "      display: none;\n",
              "      fill: #1967D2;\n",
              "      height: 32px;\n",
              "      padding: 0 0 0 0;\n",
              "      width: 32px;\n",
              "    }\n",
              "\n",
              "    .colab-df-convert:hover {\n",
              "      background-color: #E2EBFA;\n",
              "      box-shadow: 0px 1px 2px rgba(60, 64, 67, 0.3), 0px 1px 3px 1px rgba(60, 64, 67, 0.15);\n",
              "      fill: #174EA6;\n",
              "    }\n",
              "\n",
              "    [theme=dark] .colab-df-convert {\n",
              "      background-color: #3B4455;\n",
              "      fill: #D2E3FC;\n",
              "    }\n",
              "\n",
              "    [theme=dark] .colab-df-convert:hover {\n",
              "      background-color: #434B5C;\n",
              "      box-shadow: 0px 1px 3px 1px rgba(0, 0, 0, 0.15);\n",
              "      filter: drop-shadow(0px 1px 2px rgba(0, 0, 0, 0.3));\n",
              "      fill: #FFFFFF;\n",
              "    }\n",
              "  </style>\n",
              "\n",
              "      <script>\n",
              "        const buttonEl =\n",
              "          document.querySelector('#df-f5421a90-1b05-46a4-a75e-17848fbe8b8b button.colab-df-convert');\n",
              "        buttonEl.style.display =\n",
              "          google.colab.kernel.accessAllowed ? 'block' : 'none';\n",
              "\n",
              "        async function convertToInteractive(key) {\n",
              "          const element = document.querySelector('#df-f5421a90-1b05-46a4-a75e-17848fbe8b8b');\n",
              "          const dataTable =\n",
              "            await google.colab.kernel.invokeFunction('convertToInteractive',\n",
              "                                                     [key], {});\n",
              "          if (!dataTable) return;\n",
              "\n",
              "          const docLinkHtml = 'Like what you see? Visit the ' +\n",
              "            '<a target=\"_blank\" href=https://colab.research.google.com/notebooks/data_table.ipynb>data table notebook</a>'\n",
              "            + ' to learn more about interactive tables.';\n",
              "          element.innerHTML = '';\n",
              "          dataTable['output_type'] = 'display_data';\n",
              "          await google.colab.output.renderOutput(dataTable, element);\n",
              "          const docLink = document.createElement('div');\n",
              "          docLink.innerHTML = docLinkHtml;\n",
              "          element.appendChild(docLink);\n",
              "        }\n",
              "      </script>\n",
              "    </div>\n",
              "  </div>\n",
              "  "
            ]
          },
          "metadata": {},
          "execution_count": 9
        }
      ],
      "source": [
        "data1 = pd.read_csv('/content/drive/MyDrive/project/dataset/labelValid1.csv') # enter the file path on your drive for the csv file\n",
        "data1.head()"
      ]
    },
    {
      "cell_type": "code",
      "source": [
        "from google.colab import drive\n",
        "drive.mount('/content/drive')"
      ],
      "metadata": {
        "colab": {
          "base_uri": "https://localhost:8080/"
        },
        "id": "_K4N35WCkc2j",
        "outputId": "ac07b02a-1c8b-4f76-b082-99b9f2f90537"
      },
      "execution_count": null,
      "outputs": [
        {
          "output_type": "stream",
          "name": "stdout",
          "text": [
            "Mounted at /content/drive\n"
          ]
        }
      ]
    },
    {
      "cell_type": "code",
      "execution_count": null,
      "metadata": {
        "id": "oKqiU33HZuOR"
      },
      "outputs": [],
      "source": [
        "!unzip \"/content/drive/MyDrive/project/dataset/Train.zip\""
      ]
    },
    {
      "cell_type": "code",
      "execution_count": null,
      "metadata": {
        "id": "GAKZ1p1BZuOR"
      },
      "outputs": [],
      "source": [
        "y_col = ['Class0', 'Class1']"
      ]
    },
    {
      "cell_type": "code",
      "execution_count": null,
      "metadata": {
        "id": "XYzQ87QARfam",
        "outputId": "581b0b3b-24af-411f-c9bf-598a4d2cd760",
        "colab": {
          "base_uri": "https://localhost:8080/"
        }
      },
      "outputs": [
        {
          "output_type": "stream",
          "name": "stdout",
          "text": [
            "Found 256 validated image filenames.\n"
          ]
        }
      ],
      "source": [
        "batch_size = 16\n",
        "#FOLDER_PATH = Enter the path of the folder that contains images\n",
        "data_path = \"/content/Train\" #where you extracted the zip file\n",
        "\n",
        "#Should augmentations be the same for training and validation? \n",
        "#train_aug = ImageDataGenerator(rescale=1./255, ...)\n",
        "#valid_aug = ImageDataGenerator(rescale=1./255, ...)\n",
        "\n",
        "#shuffle the data\n",
        "data = data.sample(frac=1)\n",
        "data.reset_index(drop = True, inplace = True)\n",
        "\n",
        "train_aug = ImageDataGenerator(rescale=1./255, \n",
        "                              #  width_shift_range=[-100,100], \n",
        "                              #  height_shift_range=0.5,       \n",
        "                               shear_range=0.2,\n",
        "                               horizontal_flip=True,\n",
        "                               vertical_flip=True,\n",
        "                               rotation_range=90,\n",
        "                               brightness_range=[0.2,0.05],\n",
        "                               zoom_range=0.2\n",
        "                               )\n",
        "\n",
        "# train_aug = ImageDataGenerator(rescale=1./255,         \n",
        "#                                shear_range=0.2,\n",
        "#                                zoom_range=0.2,\n",
        "#                                horizontal_flip=False)\n",
        "valid_datagen = ImageDataGenerator(rescale=1./255)\n",
        "test_aug = ImageDataGenerator(rescale=1./255)\n",
        "\n",
        "train_generator = train_aug.flow_from_dataframe(\n",
        "    dataframe=data,\n",
        "    directory=data_path,\n",
        "    x_col='Image',\n",
        "    y_col= y_col,\n",
        "    class_mode=\"raw\",\n",
        "    target_size=(500,500), #this will resize the image, you can change the size\n",
        "    batch_size=batch_size)\n",
        "\n",
        "\n"
      ]
    },
    {
      "cell_type": "code",
      "execution_count": null,
      "metadata": {
        "id": "PA0aOXNxZuOS",
        "outputId": "1b2ba69c-d83a-4d90-f5c4-71bde4c1305d"
      },
      "outputs": [
        {
          "name": "stdout",
          "output_type": "stream",
          "text": [
            "C:\\Users\\Asus\\Downloads\\cropped images\\Valid\n"
          ]
        }
      ],
      "source": [
        "# cd C:/Users/Asus/Downloads/cropped images/Valid"
      ]
    },
    {
      "cell_type": "code",
      "source": [
        "!unzip \"/content/drive/MyDrive/project/dataset/Valid.zip\""
      ],
      "metadata": {
        "id": "cDVb6jSQzqXc"
      },
      "execution_count": null,
      "outputs": []
    },
    {
      "cell_type": "code",
      "execution_count": null,
      "metadata": {
        "id": "Lbw79cYnZuOS",
        "outputId": "f7d8bcc8-999c-441e-f91b-48be1697895b",
        "colab": {
          "base_uri": "https://localhost:8080/"
        }
      },
      "outputs": [
        {
          "output_type": "stream",
          "name": "stdout",
          "text": [
            "Found 64 validated image filenames.\n"
          ]
        }
      ],
      "source": [
        "valid_generator = test_aug.flow_from_dataframe(\n",
        "    dataframe=data1,\n",
        "    directory=\"/content/Valid\",\n",
        "    x_col='Image',\n",
        "    y_col= y_col,\n",
        "    class_mode= \"raw\",\n",
        "    target_size=(500,500), #this will resize the image, you can change the size\n",
        "    batch_size=batch_size\n",
        ")"
      ]
    },
    {
      "cell_type": "code",
      "execution_count": null,
      "metadata": {
        "id": "nAe0r6YKZuOT",
        "outputId": "1b444b5e-0c44-435a-af8c-46b775c11bf7",
        "colab": {
          "base_uri": "https://localhost:8080/"
        }
      },
      "outputs": [
        {
          "output_type": "stream",
          "name": "stderr",
          "text": [
            "/usr/local/lib/python3.7/dist-packages/keras/optimizer_v2/adam.py:105: UserWarning: The `lr` argument is deprecated, use `learning_rate` instead.\n",
            "  super(Adam, self).__init__(name, **kwargs)\n"
          ]
        },
        {
          "output_type": "stream",
          "name": "stdout",
          "text": [
            "Epoch 1/20\n",
            "16/16 [==============================] - 23s 1s/step - loss: 0.8149 - accuracy: 0.6680 - val_loss: 0.5561 - val_accuracy: 0.7500\n",
            "Epoch 2/20\n",
            "16/16 [==============================] - 18s 1s/step - loss: 0.7636 - accuracy: 0.7148 - val_loss: 0.5012 - val_accuracy: 0.7500\n",
            "Epoch 3/20\n",
            "16/16 [==============================] - 18s 1s/step - loss: 0.5555 - accuracy: 0.7656 - val_loss: 0.4603 - val_accuracy: 0.8906\n",
            "Epoch 4/20\n",
            "16/16 [==============================] - 18s 1s/step - loss: 0.4546 - accuracy: 0.8203 - val_loss: 0.3826 - val_accuracy: 0.7500\n",
            "Epoch 5/20\n",
            "16/16 [==============================] - 19s 1s/step - loss: 0.3898 - accuracy: 0.8242 - val_loss: 0.3389 - val_accuracy: 0.8906\n",
            "Epoch 6/20\n",
            "16/16 [==============================] - 19s 1s/step - loss: 0.3354 - accuracy: 0.8477 - val_loss: 0.3064 - val_accuracy: 0.8906\n",
            "Epoch 7/20\n",
            "16/16 [==============================] - 18s 1s/step - loss: 0.2970 - accuracy: 0.8750 - val_loss: 0.3144 - val_accuracy: 0.8281\n",
            "Epoch 8/20\n",
            "16/16 [==============================] - 18s 1s/step - loss: 0.3138 - accuracy: 0.8555 - val_loss: 0.2948 - val_accuracy: 0.8906\n",
            "Epoch 9/20\n",
            "16/16 [==============================] - 18s 1s/step - loss: 0.2626 - accuracy: 0.9023 - val_loss: 0.2933 - val_accuracy: 0.8906\n",
            "Epoch 10/20\n",
            "16/16 [==============================] - 18s 1s/step - loss: 0.2282 - accuracy: 0.9180 - val_loss: 0.3528 - val_accuracy: 0.7500\n",
            "Epoch 11/20\n",
            "16/16 [==============================] - 18s 1s/step - loss: 0.2690 - accuracy: 0.9023 - val_loss: 0.3203 - val_accuracy: 0.7969\n",
            "Epoch 12/20\n",
            "16/16 [==============================] - 18s 1s/step - loss: 0.2672 - accuracy: 0.8984 - val_loss: 0.2409 - val_accuracy: 0.9688\n",
            "Epoch 13/20\n",
            "16/16 [==============================] - 18s 1s/step - loss: 0.1955 - accuracy: 0.9062 - val_loss: 0.3005 - val_accuracy: 0.7500\n",
            "Epoch 14/20\n",
            "16/16 [==============================] - 18s 1s/step - loss: 0.2221 - accuracy: 0.9102 - val_loss: 0.2349 - val_accuracy: 0.9062\n",
            "Epoch 15/20\n",
            "16/16 [==============================] - 18s 1s/step - loss: 0.1702 - accuracy: 0.9336 - val_loss: 0.2131 - val_accuracy: 0.9062\n",
            "Epoch 16/20\n",
            "16/16 [==============================] - 19s 1s/step - loss: 0.1311 - accuracy: 0.9492 - val_loss: 0.3134 - val_accuracy: 0.8281\n",
            "Epoch 17/20\n",
            "16/16 [==============================] - 26s 2s/step - loss: 0.2663 - accuracy: 0.9102 - val_loss: 0.2797 - val_accuracy: 0.8281\n",
            "Epoch 18/20\n",
            "16/16 [==============================] - 19s 1s/step - loss: 0.1482 - accuracy: 0.9375 - val_loss: 0.1692 - val_accuracy: 0.9844\n",
            "Epoch 19/20\n",
            "16/16 [==============================] - 24s 1s/step - loss: 0.1671 - accuracy: 0.9297 - val_loss: 0.4722 - val_accuracy: 0.7500\n",
            "Epoch 20/20\n",
            "16/16 [==============================] - 18s 1s/step - loss: 0.1265 - accuracy: 0.9492 - val_loss: 0.6577 - val_accuracy: 0.7500\n"
          ]
        }
      ],
      "source": [
        "callback = tf.keras.callbacks.EarlyStopping(monitor='loss', patience=5)\n",
        "optimizer = tf.keras.optimizers.Adam(lr=0.001)\n",
        "model.compile(optimizer=optimizer, loss='categorical_crossentropy', metrics=['accuracy'])\n",
        "history = model.fit(train_generator, batch_size= 16 ,epochs=20, validation_data = valid_generator, callbacks= callback)"
      ]
    },
    {
      "cell_type": "code",
      "execution_count": null,
      "metadata": {
        "id": "I2EBxm55ZuOU",
        "outputId": "071625f9-3b30-4857-dac9-6687f9ae370b",
        "colab": {
          "base_uri": "https://localhost:8080/",
          "height": 295
        }
      },
      "outputs": [
        {
          "output_type": "display_data",
          "data": {
            "text/plain": [
              "<Figure size 432x288 with 1 Axes>"
            ],
            "image/png": "[encoded data removed]"
          },
          "metadata": {
            "needs_background": "light"
          }
        }
      ],
      "source": [
        "plt.plot(history.history['accuracy'])\n",
        "plt.title('model accuracy')\n",
        "plt.ylabel('accuracy')\n",
        "plt.xlabel('epoch')\n",
        "#plt.legend(['8', '16', '32', '128'], loc='upper left')\n",
        "plt.savefig('Q1_multi.jpg')\n",
        "plt.show()"
      ]
    },
    {
      "cell_type": "code",
      "execution_count": null,
      "metadata": {
        "id": "tmEvkNzrZuOU",
        "outputId": "ee88d822-dcd6-4d26-8709-f31d3f36df18",
        "colab": {
          "base_uri": "https://localhost:8080/",
          "height": 295
        }
      },
      "outputs": [
        {
          "output_type": "display_data",
          "data": {
            "text/plain": [
              "<Figure size 432x288 with 1 Axes>"
            ],
            "image/png": "[encoded data removed]"
          },
          "metadata": {
            "needs_background": "light"
          }
        }
      ],
      "source": [
        "plt.plot(history.history['loss'])\n",
        "plt.title('model loss')\n",
        "plt.ylabel('accuracy')\n",
        "plt.xlabel('epoch')\n",
        "#plt.legend(['8', '16', '32', '128'], loc='upper left')\n",
        "plt.savefig('Q1_multi.jpg')\n",
        "plt.show()"
      ]
    },
    {
      "cell_type": "code",
      "execution_count": null,
      "metadata": {
        "id": "1vhZr0O3ZuOT"
      },
      "outputs": [],
      "source": [
        "!unzip \"/content/drive/MyDrive/project/dataset/Test.zip\"\n",
        "data2 = pd.read_csv('/content/drive/MyDrive/project/dataset/labelTest1.csv') # enter the file path on your drive for the csv file\n",
        "data2.head()"
      ]
    },
    {
      "cell_type": "code",
      "execution_count": null,
      "metadata": {
        "id": "xxo2z6CYZuOT",
        "outputId": "947a9e89-5b66-44a9-f0a0-7578785bb20e",
        "colab": {
          "base_uri": "https://localhost:8080/"
        }
      },
      "outputs": [
        {
          "output_type": "stream",
          "name": "stdout",
          "text": [
            "Found 80 validated image filenames.\n"
          ]
        }
      ],
      "source": [
        "test_generator = test_aug.flow_from_dataframe(\n",
        "    dataframe=data2,\n",
        "    directory=\"/content/Test\",\n",
        "    x_col='Image',\n",
        "    y_col= y_col,\n",
        "    class_mode= \"raw\",\n",
        "    target_size=(500,500), #this will resize the image, you can change the size\n",
        "    batch_size=batch_size\n",
        ")"
      ]
    },
    {
      "cell_type": "code",
      "execution_count": null,
      "metadata": {
        "id": "pLo9rnpzZuOU",
        "outputId": "47571926-f7ab-4770-cb3b-1b76d268007f",
        "colab": {
          "base_uri": "https://localhost:8080/"
        }
      },
      "outputs": [
        {
          "output_type": "execute_result",
          "data": {
            "text/plain": [
              "0.725"
            ]
          },
          "metadata": {},
          "execution_count": 41
        }
      ],
      "source": [
        "from sklearn.metrics import accuracy_score\n",
        "# Load test data\n",
        "import csv \n",
        "from sklearn import metrics\n",
        "\n",
        "data3 = pd.read_csv('/content/drive/MyDrive/project/dataset/labelTestfinal.csv') # enter the file path on your drive for the csv file\n",
        "data3.head()\n",
        "\n",
        "y_predict = model.predict(test_generator)\n",
        "\n",
        "y_predict = y_predict.argmax(-1)\n",
        "accuracy_score(data3['label'],y_predict)\n",
        "    \n"
      ]
    },
    {
      "cell_type": "markdown",
      "metadata": {
        "id": "ngVLhQAOZuOU"
      },
      "source": [
        ""
      ]
    }
  ],
  "metadata": {
    "colab": {
      "collapsed_sections": [],
      "name": "Acc-72-Training_brain.ipynb",
      "provenance": [],
      "include_colab_link": true
    },
    "kernelspec": {
      "display_name": "Python 3",
      "name": "python3"
    },
    "language_info": {
      "codemirror_mode": {
        "name": "ipython",
        "version": 3
      },
      "file_extension": ".py",
      "mimetype": "text/x-python",
      "name": "python",
      "nbconvert_exporter": "python",
      "pygments_lexer": "ipython3",
      "version": "3.8.13"
    },
    "accelerator": "GPU"
  },
  "nbformat": 4,
  "nbformat_minor": 0
}